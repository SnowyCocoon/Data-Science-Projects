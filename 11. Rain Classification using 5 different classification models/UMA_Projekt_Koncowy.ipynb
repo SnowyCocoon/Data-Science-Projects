{
  "nbformat": 4,
  "nbformat_minor": 0,
  "metadata": {
    "colab": {
      "name": "UMA_Projekt_Koncowy.ipynb",
      "provenance": [],
      "collapsed_sections": []
    },
    "kernelspec": {
      "name": "python3",
      "display_name": "Python 3"
    },
    "language_info": {
      "name": "python"
    }
  },
  "cells": [
    {
      "cell_type": "markdown",
      "metadata": {
        "id": "0RXi-1x68RJP"
      },
      "source": [
        "# Dominik Strzałko (SnowyCocoon) - Predicting the rain in Australia\n",
        "We will be comparing 5 different methods to predict the rain:\n",
        "1. Logistic Regresion\n",
        "3. Decision Trees\n",
        "2. Random Forest\n",
        "4. KNeighborsClassifier\n",
        "5. Neural Network (Built in Keras)\n",
        "\n",
        "Dataset from:\n",
        "- https://www.kaggle.com/jsphyg/weather-dataset-rattle-package\n",
        "\n",
        "\n",
        "List of helpfull notebooks:\n",
        "- https://www.kaggle.com/aninditapani/will-it-rain-tomorrow\n",
        "- https://www.kaggle.com/prashant111/logistic-regression-classifier-tutorial\n",
        "- https://www.kaggle.com/rafetcan/red-wine-quality-classification-95-76-acc"
      ]
    },
    {
      "cell_type": "markdown",
      "metadata": {
        "id": "4m2M0ztO8czp"
      },
      "source": [
        "# 0. Importing the libriaries and data"
      ]
    },
    {
      "cell_type": "code",
      "metadata": {
        "id": "pLnhxa8reXOd"
      },
      "source": [
        "import torch\n",
        "import os\n",
        "import numpy as np\n",
        "import pandas as pd\n",
        "import seaborn as sns\n",
        "import matplotlib.pyplot as plt\n",
        "from sklearn.model_selection import train_test_split\n",
        "from torch import nn, optim\n",
        "import torch.nn.functional as F\n",
        "from scipy.stats import norm\n",
        "#from sklearn.utils import resample"
      ],
      "execution_count": 28,
      "outputs": []
    },
    {
      "cell_type": "code",
      "metadata": {
        "id": "s9uG_f_F9GhJ"
      },
      "source": [
        "df = pd.read_csv('weatherAUS.csv') #Reading the csv"
      ],
      "execution_count": 29,
      "outputs": []
    },
    {
      "cell_type": "code",
      "metadata": {
        "id": "40wo5Uk19JjN",
        "colab": {
          "base_uri": "https://localhost:8080/",
          "height": 309
        },
        "outputId": "251ecd16-ffc6-42b1-c2ea-fd702311650e"
      },
      "source": [
        "df.head() #Displaying the first 5 rows of the dataframe "
      ],
      "execution_count": 30,
      "outputs": [
        {
          "output_type": "execute_result",
          "data": {
            "text/html": [
              "<div>\n",
              "<style scoped>\n",
              "    .dataframe tbody tr th:only-of-type {\n",
              "        vertical-align: middle;\n",
              "    }\n",
              "\n",
              "    .dataframe tbody tr th {\n",
              "        vertical-align: top;\n",
              "    }\n",
              "\n",
              "    .dataframe thead th {\n",
              "        text-align: right;\n",
              "    }\n",
              "</style>\n",
              "<table border=\"1\" class=\"dataframe\">\n",
              "  <thead>\n",
              "    <tr style=\"text-align: right;\">\n",
              "      <th></th>\n",
              "      <th>Date</th>\n",
              "      <th>Location</th>\n",
              "      <th>MinTemp</th>\n",
              "      <th>MaxTemp</th>\n",
              "      <th>Rainfall</th>\n",
              "      <th>Evaporation</th>\n",
              "      <th>Sunshine</th>\n",
              "      <th>WindGustDir</th>\n",
              "      <th>WindGustSpeed</th>\n",
              "      <th>WindDir9am</th>\n",
              "      <th>WindDir3pm</th>\n",
              "      <th>WindSpeed9am</th>\n",
              "      <th>WindSpeed3pm</th>\n",
              "      <th>Humidity9am</th>\n",
              "      <th>Humidity3pm</th>\n",
              "      <th>Pressure9am</th>\n",
              "      <th>Pressure3pm</th>\n",
              "      <th>Cloud9am</th>\n",
              "      <th>Cloud3pm</th>\n",
              "      <th>Temp9am</th>\n",
              "      <th>Temp3pm</th>\n",
              "      <th>RainToday</th>\n",
              "      <th>RainTomorrow</th>\n",
              "    </tr>\n",
              "  </thead>\n",
              "  <tbody>\n",
              "    <tr>\n",
              "      <th>0</th>\n",
              "      <td>2008-12-01</td>\n",
              "      <td>Albury</td>\n",
              "      <td>13.4</td>\n",
              "      <td>22.9</td>\n",
              "      <td>0.6</td>\n",
              "      <td>NaN</td>\n",
              "      <td>NaN</td>\n",
              "      <td>W</td>\n",
              "      <td>44.0</td>\n",
              "      <td>W</td>\n",
              "      <td>WNW</td>\n",
              "      <td>20.0</td>\n",
              "      <td>24.0</td>\n",
              "      <td>71.0</td>\n",
              "      <td>22.0</td>\n",
              "      <td>1007.7</td>\n",
              "      <td>1007.1</td>\n",
              "      <td>8.0</td>\n",
              "      <td>NaN</td>\n",
              "      <td>16.9</td>\n",
              "      <td>21.8</td>\n",
              "      <td>No</td>\n",
              "      <td>No</td>\n",
              "    </tr>\n",
              "    <tr>\n",
              "      <th>1</th>\n",
              "      <td>2008-12-02</td>\n",
              "      <td>Albury</td>\n",
              "      <td>7.4</td>\n",
              "      <td>25.1</td>\n",
              "      <td>0.0</td>\n",
              "      <td>NaN</td>\n",
              "      <td>NaN</td>\n",
              "      <td>WNW</td>\n",
              "      <td>44.0</td>\n",
              "      <td>NNW</td>\n",
              "      <td>WSW</td>\n",
              "      <td>4.0</td>\n",
              "      <td>22.0</td>\n",
              "      <td>44.0</td>\n",
              "      <td>25.0</td>\n",
              "      <td>1010.6</td>\n",
              "      <td>1007.8</td>\n",
              "      <td>NaN</td>\n",
              "      <td>NaN</td>\n",
              "      <td>17.2</td>\n",
              "      <td>24.3</td>\n",
              "      <td>No</td>\n",
              "      <td>No</td>\n",
              "    </tr>\n",
              "    <tr>\n",
              "      <th>2</th>\n",
              "      <td>2008-12-03</td>\n",
              "      <td>Albury</td>\n",
              "      <td>12.9</td>\n",
              "      <td>25.7</td>\n",
              "      <td>0.0</td>\n",
              "      <td>NaN</td>\n",
              "      <td>NaN</td>\n",
              "      <td>WSW</td>\n",
              "      <td>46.0</td>\n",
              "      <td>W</td>\n",
              "      <td>WSW</td>\n",
              "      <td>19.0</td>\n",
              "      <td>26.0</td>\n",
              "      <td>38.0</td>\n",
              "      <td>30.0</td>\n",
              "      <td>1007.6</td>\n",
              "      <td>1008.7</td>\n",
              "      <td>NaN</td>\n",
              "      <td>2.0</td>\n",
              "      <td>21.0</td>\n",
              "      <td>23.2</td>\n",
              "      <td>No</td>\n",
              "      <td>No</td>\n",
              "    </tr>\n",
              "    <tr>\n",
              "      <th>3</th>\n",
              "      <td>2008-12-04</td>\n",
              "      <td>Albury</td>\n",
              "      <td>9.2</td>\n",
              "      <td>28.0</td>\n",
              "      <td>0.0</td>\n",
              "      <td>NaN</td>\n",
              "      <td>NaN</td>\n",
              "      <td>NE</td>\n",
              "      <td>24.0</td>\n",
              "      <td>SE</td>\n",
              "      <td>E</td>\n",
              "      <td>11.0</td>\n",
              "      <td>9.0</td>\n",
              "      <td>45.0</td>\n",
              "      <td>16.0</td>\n",
              "      <td>1017.6</td>\n",
              "      <td>1012.8</td>\n",
              "      <td>NaN</td>\n",
              "      <td>NaN</td>\n",
              "      <td>18.1</td>\n",
              "      <td>26.5</td>\n",
              "      <td>No</td>\n",
              "      <td>No</td>\n",
              "    </tr>\n",
              "    <tr>\n",
              "      <th>4</th>\n",
              "      <td>2008-12-05</td>\n",
              "      <td>Albury</td>\n",
              "      <td>17.5</td>\n",
              "      <td>32.3</td>\n",
              "      <td>1.0</td>\n",
              "      <td>NaN</td>\n",
              "      <td>NaN</td>\n",
              "      <td>W</td>\n",
              "      <td>41.0</td>\n",
              "      <td>ENE</td>\n",
              "      <td>NW</td>\n",
              "      <td>7.0</td>\n",
              "      <td>20.0</td>\n",
              "      <td>82.0</td>\n",
              "      <td>33.0</td>\n",
              "      <td>1010.8</td>\n",
              "      <td>1006.0</td>\n",
              "      <td>7.0</td>\n",
              "      <td>8.0</td>\n",
              "      <td>17.8</td>\n",
              "      <td>29.7</td>\n",
              "      <td>No</td>\n",
              "      <td>No</td>\n",
              "    </tr>\n",
              "  </tbody>\n",
              "</table>\n",
              "</div>"
            ],
            "text/plain": [
              "         Date Location  MinTemp  ...  Temp3pm  RainToday  RainTomorrow\n",
              "0  2008-12-01   Albury     13.4  ...     21.8         No            No\n",
              "1  2008-12-02   Albury      7.4  ...     24.3         No            No\n",
              "2  2008-12-03   Albury     12.9  ...     23.2         No            No\n",
              "3  2008-12-04   Albury      9.2  ...     26.5         No            No\n",
              "4  2008-12-05   Albury     17.5  ...     29.7         No            No\n",
              "\n",
              "[5 rows x 23 columns]"
            ]
          },
          "metadata": {
            "tags": []
          },
          "execution_count": 30
        }
      ]
    },
    {
      "cell_type": "markdown",
      "metadata": {
        "id": "lmEfjxP9Co1K"
      },
      "source": [
        "# 1. Preprocessing the data"
      ]
    },
    {
      "cell_type": "markdown",
      "metadata": {
        "id": "RCTNBYmFzIc8"
      },
      "source": [
        "### 1.1. Handling the NA/Null/Empty values"
      ]
    },
    {
      "cell_type": "code",
      "metadata": {
        "colab": {
          "base_uri": "https://localhost:8080/"
        },
        "id": "OyppHf0ly4Oa",
        "outputId": "d152a596-af28-4582-d33d-57f4bb567361"
      },
      "source": [
        "df.count().sort_values() #Checking how many values each column have."
      ],
      "execution_count": 31,
      "outputs": [
        {
          "output_type": "execute_result",
          "data": {
            "text/plain": [
              "Sunshine          75625\n",
              "Evaporation       82670\n",
              "Cloud3pm          86102\n",
              "Cloud9am          89572\n",
              "Pressure9am      130395\n",
              "Pressure3pm      130432\n",
              "WindDir9am       134894\n",
              "WindGustDir      135134\n",
              "WindGustSpeed    135197\n",
              "Humidity3pm      140953\n",
              "WindDir3pm       141232\n",
              "Temp3pm          141851\n",
              "RainTomorrow     142193\n",
              "RainToday        142199\n",
              "Rainfall         142199\n",
              "WindSpeed3pm     142398\n",
              "Humidity9am      142806\n",
              "Temp9am          143693\n",
              "WindSpeed9am     143693\n",
              "MinTemp          143975\n",
              "MaxTemp          144199\n",
              "Location         145460\n",
              "Date             145460\n",
              "dtype: int64"
            ]
          },
          "metadata": {
            "tags": []
          },
          "execution_count": 31
        }
      ]
    },
    {
      "cell_type": "code",
      "metadata": {
        "colab": {
          "base_uri": "https://localhost:8080/"
        },
        "id": "6SBPWRT3C0jl",
        "outputId": "8b18cfbd-cbd7-4201-e442-3d12bb84ad98"
      },
      "source": [
        "df.isna().sum().sort_values() #Checking how many missing values each column have."
      ],
      "execution_count": 32,
      "outputs": [
        {
          "output_type": "execute_result",
          "data": {
            "text/plain": [
              "Date                 0\n",
              "Location             0\n",
              "MaxTemp           1261\n",
              "MinTemp           1485\n",
              "Temp9am           1767\n",
              "WindSpeed9am      1767\n",
              "Humidity9am       2654\n",
              "WindSpeed3pm      3062\n",
              "Rainfall          3261\n",
              "RainToday         3261\n",
              "RainTomorrow      3267\n",
              "Temp3pm           3609\n",
              "WindDir3pm        4228\n",
              "Humidity3pm       4507\n",
              "WindGustSpeed    10263\n",
              "WindGustDir      10326\n",
              "WindDir9am       10566\n",
              "Pressure3pm      15028\n",
              "Pressure9am      15065\n",
              "Cloud9am         55888\n",
              "Cloud3pm         59358\n",
              "Evaporation      62790\n",
              "Sunshine         69835\n",
              "dtype: int64"
            ]
          },
          "metadata": {
            "tags": []
          },
          "execution_count": 32
        }
      ]
    },
    {
      "cell_type": "code",
      "metadata": {
        "id": "gkAHSM7RzZdR"
      },
      "source": [
        "df = df.drop(columns=['Sunshine','Evaporation','Cloud3pm','Cloud9am','Location','Date'],axis=1) #We are droping all columns with less than 60% of data"
      ],
      "execution_count": 33,
      "outputs": []
    },
    {
      "cell_type": "code",
      "metadata": {
        "id": "N2Axv3k8zdvg"
      },
      "source": [
        "df = df.dropna(how='any') #We are dropping all the rows with any missing value."
      ],
      "execution_count": 34,
      "outputs": []
    },
    {
      "cell_type": "markdown",
      "metadata": {
        "id": "B6O6jGSAzyHJ"
      },
      "source": [
        "### 1.2. Dealing with outliers\n",
        "https://en.wikipedia.org/wiki/Outlier\n",
        "\n",
        "We are calculating the Z-score of for every value in the dataframe. If the Z-score is going to be bigger than 3, then we are going to delete the whole row with one or more outliers. The highes the Z-score is, the more unusual the data is!\n",
        "\n",
        "![title](https://raw.githubusercontent.com/SnowyCocoon/Data-Science-Projects/main/11.%20Rain%20Classification%20using%205%20different%20classification%20models/Img1.png)\n",
        "\n",
        "source(https://en.wikipedia.org/wiki/Z-test)\n",
        "\n",
        "![title](https://github.com/SnowyCocoon/Data-Science-Projects/blob/main/11.%20Rain%20Classification%20using%205%20different%20classification%20models/Img2.png?raw=true)\n",
        "\n",
        "source (https://www.dummies.com/education/math/statistics/how-to-calculate-a-confidence-interval-for-a-population-mean-when-you-know-its-standard-deviation/)"
      ]
    },
    {
      "cell_type": "code",
      "metadata": {
        "colab": {
          "base_uri": "https://localhost:8080/"
        },
        "id": "raUkWMFLC6iW",
        "outputId": "d6513f6b-b5d7-4fd2-f0cf-735d9a1b7f36"
      },
      "source": [
        "from scipy import stats\n",
        "\n",
        "z = np.abs(stats.zscore(df._get_numeric_data()))\n",
        "print(z)\n",
        "df= df[(z < 3).all(axis=1)]\n",
        "print(df.shape)"
      ],
      "execution_count": 35,
      "outputs": [
        {
          "output_type": "stream",
          "text": [
            "[[0.11756741 0.10822071 0.20666127 ... 1.14245477 0.08843526 0.04787026]\n",
            " [0.84180219 0.20684494 0.27640495 ... 1.04184813 0.04122846 0.31776848]\n",
            " [0.03761995 0.29277194 0.27640495 ... 0.91249673 0.55672435 0.15688743]\n",
            " ...\n",
            " [1.44940294 0.23548728 0.27640495 ... 0.58223051 1.03257127 0.34701958]\n",
            " [1.16159206 0.46462594 0.27640495 ... 0.25166583 0.78080166 0.58102838]\n",
            " [0.77784422 0.4789471  0.27640495 ... 0.2085487  0.37167606 0.56640283]]\n",
            "(107868, 17)\n"
          ],
          "name": "stdout"
        }
      ]
    },
    {
      "cell_type": "markdown",
      "metadata": {
        "id": "VtGWm4TN6Brx"
      },
      "source": [
        "### 1.3. Dealing with categorical data (in string format)"
      ]
    },
    {
      "cell_type": "code",
      "metadata": {
        "id": "f4XQfEtwDF-m"
      },
      "source": [
        "df['RainToday'].replace({'No': 0, 'Yes': 1},inplace = True)\n",
        "df['RainTomorrow'].replace({'No': 0, 'Yes': 1},inplace = True)"
      ],
      "execution_count": 36,
      "outputs": []
    },
    {
      "cell_type": "code",
      "metadata": {
        "id": "z5kldlDz0fGU"
      },
      "source": [
        "categorical_columns = ['WindGustDir', 'WindDir3pm', 'WindDir9am']\n",
        "df = pd.get_dummies(df, columns=categorical_columns)"
      ],
      "execution_count": 37,
      "outputs": []
    },
    {
      "cell_type": "markdown",
      "metadata": {
        "id": "ZGQ36IP47QJf"
      },
      "source": [
        "### 1.4. Standarizing/Normalizing our data"
      ]
    },
    {
      "cell_type": "code",
      "metadata": {
        "id": "u8WUDlEM0fEg"
      },
      "source": [
        "from sklearn import preprocessing\n",
        "\n",
        "scaler = preprocessing.MinMaxScaler()\n",
        "scaler.fit(df)\n",
        "df = pd.DataFrame(scaler.transform(df), index=df.index, columns=df.columns)"
      ],
      "execution_count": 38,
      "outputs": []
    },
    {
      "cell_type": "markdown",
      "metadata": {
        "id": "2VQi1m627c0A"
      },
      "source": [
        "### 1.5. Selecting the features to include in our model"
      ]
    },
    {
      "cell_type": "code",
      "metadata": {
        "colab": {
          "base_uri": "https://localhost:8080/"
        },
        "id": "3KVUIX9u7aoR",
        "outputId": "c63551dc-1685-47b7-a612-f3412cd84186"
      },
      "source": [
        "from sklearn.feature_selection import SelectKBest, chi2\n",
        "\n",
        "X = df.loc[:,df.columns!='RainTomorrow']\n",
        "y = df[['RainTomorrow']]\n",
        "\n",
        "selector = SelectKBest(chi2, k=3)\n",
        "selector.fit(X, y)\n",
        "\n",
        "X_new = selector.transform(X)\n",
        "print(X.columns[selector.get_support(indices=True)]) #top 3 columns"
      ],
      "execution_count": 39,
      "outputs": [
        {
          "output_type": "stream",
          "text": [
            "Index(['Rainfall', 'Humidity3pm', 'RainToday'], dtype='object')\n"
          ],
          "name": "stdout"
        }
      ]
    },
    {
      "cell_type": "markdown",
      "metadata": {
        "id": "W8_4mo0x66CI"
      },
      "source": [
        "### 1.6. Analysing the top 3 columns"
      ]
    },
    {
      "cell_type": "markdown",
      "metadata": {
        "id": "dvc99F7fCYpO"
      },
      "source": [
        "Probability Plots are looking already fine, because we deleted the outliers!"
      ]
    },
    {
      "cell_type": "markdown",
      "metadata": {
        "id": "O4926PNhAl6E"
      },
      "source": [
        "#### 1.6.1. Humidity at 3 PM"
      ]
    },
    {
      "cell_type": "code",
      "metadata": {
        "colab": {
          "base_uri": "https://localhost:8080/",
          "height": 82
        },
        "id": "VZsXXjO37DVz",
        "outputId": "6401ecd0-5b1f-49b5-e1ba-cfe21b925282"
      },
      "source": [
        "df[[\"Humidity3pm\",\"RainTomorrow\"]].groupby([\"RainTomorrow\"], as_index = False).mean().sort_values(by = \"RainTomorrow\").style.background_gradient(\"Reds\")"
      ],
      "execution_count": 40,
      "outputs": [
        {
          "output_type": "execute_result",
          "data": {
            "text/html": [
              "<style  type=\"text/css\" >\n",
              "#T_2a6b60da_cea0_11eb_a5ca_0242ac1c0002row0_col0,#T_2a6b60da_cea0_11eb_a5ca_0242ac1c0002row0_col1{\n",
              "            background-color:  #fff5f0;\n",
              "            color:  #000000;\n",
              "        }#T_2a6b60da_cea0_11eb_a5ca_0242ac1c0002row1_col0,#T_2a6b60da_cea0_11eb_a5ca_0242ac1c0002row1_col1{\n",
              "            background-color:  #67000d;\n",
              "            color:  #f1f1f1;\n",
              "        }</style><table id=\"T_2a6b60da_cea0_11eb_a5ca_0242ac1c0002\" ><thead>    <tr>        <th class=\"blank level0\" ></th>        <th class=\"col_heading level0 col0\" >RainTomorrow</th>        <th class=\"col_heading level0 col1\" >Humidity3pm</th>    </tr></thead><tbody>\n",
              "                <tr>\n",
              "                        <th id=\"T_2a6b60da_cea0_11eb_a5ca_0242ac1c0002level0_row0\" class=\"row_heading level0 row0\" >0</th>\n",
              "                        <td id=\"T_2a6b60da_cea0_11eb_a5ca_0242ac1c0002row0_col0\" class=\"data row0 col0\" >0.000000</td>\n",
              "                        <td id=\"T_2a6b60da_cea0_11eb_a5ca_0242ac1c0002row0_col1\" class=\"data row0 col1\" >0.457204</td>\n",
              "            </tr>\n",
              "            <tr>\n",
              "                        <th id=\"T_2a6b60da_cea0_11eb_a5ca_0242ac1c0002level0_row1\" class=\"row_heading level0 row1\" >1</th>\n",
              "                        <td id=\"T_2a6b60da_cea0_11eb_a5ca_0242ac1c0002row1_col0\" class=\"data row1 col0\" >1.000000</td>\n",
              "                        <td id=\"T_2a6b60da_cea0_11eb_a5ca_0242ac1c0002row1_col1\" class=\"data row1 col1\" >0.679920</td>\n",
              "            </tr>\n",
              "    </tbody></table>"
            ],
            "text/plain": [
              "<pandas.io.formats.style.Styler at 0x7fa84d4c5bd0>"
            ]
          },
          "metadata": {
            "tags": []
          },
          "execution_count": 40
        }
      ]
    },
    {
      "cell_type": "code",
      "metadata": {
        "colab": {
          "base_uri": "https://localhost:8080/",
          "height": 673
        },
        "id": "vUK_-V1-8-rH",
        "outputId": "3f26bfcb-74ea-4f79-b9b3-0852091a3a88"
      },
      "source": [
        "plt.figure(figsize=(13,10))\n",
        "plt.subplot(2,2,1)\n",
        "plt.hist(df[\"Humidity3pm\"], color=\"orange\")\n",
        "plt.xlabel(\"Humidity3pm\")\n",
        "plt.ylabel(\"Frequency\")\n",
        "plt.title(\"Humidity3pm histogram\", color = \"black\", fontweight='bold', fontsize = 11)\n",
        "plt.subplot(2,2,2)\n",
        "sns.distplot(df[\"Humidity3pm\"], fit=norm, color=\"orange\")\n",
        "plt.title(\"Humidity3pm Distplot\", color = \"black\", fontweight='bold', fontsize = 11)\n",
        "plt.subplot(2,2,3)\n",
        "stats.probplot(df[\"Humidity3pm\"], plot = plt)\n",
        "\n",
        "plt.show()"
      ],
      "execution_count": 41,
      "outputs": [
        {
          "output_type": "stream",
          "text": [
            "/usr/local/lib/python3.7/dist-packages/seaborn/distributions.py:2557: FutureWarning: `distplot` is a deprecated function and will be removed in a future version. Please adapt your code to use either `displot` (a figure-level function with similar flexibility) or `histplot` (an axes-level function for histograms).\n",
            "  warnings.warn(msg, FutureWarning)\n"
          ],
          "name": "stderr"
        },
        {
          "output_type": "display_data",
          "data": {
            "image/png": "[encoded data removed]",
            "text/plain": [
              "<Figure size 936x720 with 3 Axes>"
            ]
          },
          "metadata": {
            "tags": [],
            "needs_background": "light"
          }
        }
      ]
    },
    {
      "cell_type": "markdown",
      "metadata": {
        "id": "ajwM129JAqM1"
      },
      "source": [
        "#### 1.6.2. Rainfall"
      ]
    },
    {
      "cell_type": "code",
      "metadata": {
        "colab": {
          "base_uri": "https://localhost:8080/",
          "height": 82
        },
        "id": "ySKZOgGg7vPE",
        "outputId": "a38f8ceb-afec-45d2-d4e0-4b7f7bd51857"
      },
      "source": [
        "df[[\"Rainfall\",\"RainTomorrow\"]].groupby([\"RainTomorrow\"], as_index = False).mean().sort_values(by = \"RainTomorrow\").style.background_gradient(\"Reds\")"
      ],
      "execution_count": 42,
      "outputs": [
        {
          "output_type": "execute_result",
          "data": {
            "text/html": [
              "<style  type=\"text/css\" >\n",
              "#T_2b30c7c6_cea0_11eb_a5ca_0242ac1c0002row0_col0,#T_2b30c7c6_cea0_11eb_a5ca_0242ac1c0002row0_col1{\n",
              "            background-color:  #fff5f0;\n",
              "            color:  #000000;\n",
              "        }#T_2b30c7c6_cea0_11eb_a5ca_0242ac1c0002row1_col0,#T_2b30c7c6_cea0_11eb_a5ca_0242ac1c0002row1_col1{\n",
              "            background-color:  #67000d;\n",
              "            color:  #f1f1f1;\n",
              "        }</style><table id=\"T_2b30c7c6_cea0_11eb_a5ca_0242ac1c0002\" ><thead>    <tr>        <th class=\"blank level0\" ></th>        <th class=\"col_heading level0 col0\" >RainTomorrow</th>        <th class=\"col_heading level0 col1\" >Rainfall</th>    </tr></thead><tbody>\n",
              "                <tr>\n",
              "                        <th id=\"T_2b30c7c6_cea0_11eb_a5ca_0242ac1c0002level0_row0\" class=\"row_heading level0 row0\" >0</th>\n",
              "                        <td id=\"T_2b30c7c6_cea0_11eb_a5ca_0242ac1c0002row0_col0\" class=\"data row0 col0\" >0.000000</td>\n",
              "                        <td id=\"T_2b30c7c6_cea0_11eb_a5ca_0242ac1c0002row0_col1\" class=\"data row0 col1\" >0.033865</td>\n",
              "            </tr>\n",
              "            <tr>\n",
              "                        <th id=\"T_2b30c7c6_cea0_11eb_a5ca_0242ac1c0002level0_row1\" class=\"row_heading level0 row1\" >1</th>\n",
              "                        <td id=\"T_2b30c7c6_cea0_11eb_a5ca_0242ac1c0002row1_col0\" class=\"data row1 col0\" >1.000000</td>\n",
              "                        <td id=\"T_2b30c7c6_cea0_11eb_a5ca_0242ac1c0002row1_col1\" class=\"data row1 col1\" >0.125855</td>\n",
              "            </tr>\n",
              "    </tbody></table>"
            ],
            "text/plain": [
              "<pandas.io.formats.style.Styler at 0x7fa84d3d6b10>"
            ]
          },
          "metadata": {
            "tags": []
          },
          "execution_count": 42
        }
      ]
    },
    {
      "cell_type": "code",
      "metadata": {
        "colab": {
          "base_uri": "https://localhost:8080/",
          "height": 673
        },
        "id": "Z9IvKGh2Aq2P",
        "outputId": "ba8b2e4c-76c3-431e-9ffe-36bd54a1a7fc"
      },
      "source": [
        "plt.figure(figsize=(13,10))\n",
        "plt.subplot(2,2,1)\n",
        "plt.hist(df[\"Rainfall\"], color=\"purple\")\n",
        "plt.xlabel(\"Rainfall\")\n",
        "plt.ylabel(\"Frequency\")\n",
        "plt.title(\"Rainfall histogram\", color = \"black\", fontweight='bold', fontsize = 11)\n",
        "plt.subplot(2,2,2)\n",
        "sns.distplot(df[\"Rainfall\"], fit=norm, color=\"purple\")\n",
        "plt.title(\"Rainfall Distplot\", color = \"black\", fontweight='bold', fontsize = 11)\n",
        "plt.subplot(2,2,3)\n",
        "stats.probplot(df[\"Rainfall\"], plot = plt)\n",
        "\n",
        "plt.show()"
      ],
      "execution_count": 43,
      "outputs": [
        {
          "output_type": "stream",
          "text": [
            "/usr/local/lib/python3.7/dist-packages/seaborn/distributions.py:2557: FutureWarning: `distplot` is a deprecated function and will be removed in a future version. Please adapt your code to use either `displot` (a figure-level function with similar flexibility) or `histplot` (an axes-level function for histograms).\n",
            "  warnings.warn(msg, FutureWarning)\n"
          ],
          "name": "stderr"
        },
        {
          "output_type": "display_data",
          "data": {
            "image/png": "[encoded data removed]",
            "text/plain": [
              "<Figure size 936x720 with 3 Axes>"
            ]
          },
          "metadata": {
            "tags": [],
            "needs_background": "light"
          }
        }
      ]
    },
    {
      "cell_type": "markdown",
      "metadata": {
        "id": "JWdfygdCAqje"
      },
      "source": [
        "#### 1.6.3. Rain Today"
      ]
    },
    {
      "cell_type": "code",
      "metadata": {
        "colab": {
          "base_uri": "https://localhost:8080/",
          "height": 82
        },
        "id": "wurp0SJp7vka",
        "outputId": "854905c8-2699-43cf-8987-195e6a9c65ba"
      },
      "source": [
        "df[[\"RainToday\",\"RainTomorrow\"]].groupby([\"RainTomorrow\"], as_index = False).mean().sort_values(by = \"RainTomorrow\").style.background_gradient(\"Reds\")"
      ],
      "execution_count": 44,
      "outputs": [
        {
          "output_type": "execute_result",
          "data": {
            "text/html": [
              "<style  type=\"text/css\" >\n",
              "#T_2bee95ee_cea0_11eb_a5ca_0242ac1c0002row0_col0,#T_2bee95ee_cea0_11eb_a5ca_0242ac1c0002row0_col1{\n",
              "            background-color:  #fff5f0;\n",
              "            color:  #000000;\n",
              "        }#T_2bee95ee_cea0_11eb_a5ca_0242ac1c0002row1_col0,#T_2bee95ee_cea0_11eb_a5ca_0242ac1c0002row1_col1{\n",
              "            background-color:  #67000d;\n",
              "            color:  #f1f1f1;\n",
              "        }</style><table id=\"T_2bee95ee_cea0_11eb_a5ca_0242ac1c0002\" ><thead>    <tr>        <th class=\"blank level0\" ></th>        <th class=\"col_heading level0 col0\" >RainTomorrow</th>        <th class=\"col_heading level0 col1\" >RainToday</th>    </tr></thead><tbody>\n",
              "                <tr>\n",
              "                        <th id=\"T_2bee95ee_cea0_11eb_a5ca_0242ac1c0002level0_row0\" class=\"row_heading level0 row0\" >0</th>\n",
              "                        <td id=\"T_2bee95ee_cea0_11eb_a5ca_0242ac1c0002row0_col0\" class=\"data row0 col0\" >0.000000</td>\n",
              "                        <td id=\"T_2bee95ee_cea0_11eb_a5ca_0242ac1c0002row0_col1\" class=\"data row0 col1\" >0.147961</td>\n",
              "            </tr>\n",
              "            <tr>\n",
              "                        <th id=\"T_2bee95ee_cea0_11eb_a5ca_0242ac1c0002level0_row1\" class=\"row_heading level0 row1\" >1</th>\n",
              "                        <td id=\"T_2bee95ee_cea0_11eb_a5ca_0242ac1c0002row1_col0\" class=\"data row1 col0\" >1.000000</td>\n",
              "                        <td id=\"T_2bee95ee_cea0_11eb_a5ca_0242ac1c0002row1_col1\" class=\"data row1 col1\" >0.437190</td>\n",
              "            </tr>\n",
              "    </tbody></table>"
            ],
            "text/plain": [
              "<pandas.io.formats.style.Styler at 0x7fa84d3fcf90>"
            ]
          },
          "metadata": {
            "tags": []
          },
          "execution_count": 44
        }
      ]
    },
    {
      "cell_type": "code",
      "metadata": {
        "colab": {
          "base_uri": "https://localhost:8080/",
          "height": 377
        },
        "id": "RU52DkQ4Arj9",
        "outputId": "9eb63378-a8ef-4538-eafb-6466dc028e58"
      },
      "source": [
        "plt.figure(figsize=(13,10))\n",
        "plt.subplot(2,2,1)\n",
        "plt.hist(df[\"RainToday\"], color=\"blue\")\n",
        "plt.xlabel(\"RainToday\")\n",
        "plt.ylabel(\"Frequency\")\n",
        "plt.title(\"RainToday histogram\", color = \"black\", fontweight='bold', fontsize = 11)\n",
        "plt.subplot(2,2,2)\n",
        "sns.distplot(df[\"RainToday\"], fit=norm, color=\"blue\")\n",
        "plt.title(\"RainToday Distplot\", color = \"black\", fontweight='bold', fontsize = 11)\n",
        "\n",
        "plt.show()"
      ],
      "execution_count": 45,
      "outputs": [
        {
          "output_type": "stream",
          "text": [
            "/usr/local/lib/python3.7/dist-packages/seaborn/distributions.py:2557: FutureWarning: `distplot` is a deprecated function and will be removed in a future version. Please adapt your code to use either `displot` (a figure-level function with similar flexibility) or `histplot` (an axes-level function for histograms).\n",
            "  warnings.warn(msg, FutureWarning)\n"
          ],
          "name": "stderr"
        },
        {
          "output_type": "display_data",
          "data": {
            "image/png": "[encoded data removed]",
            "text/plain": [
              "<Figure size 936x720 with 2 Axes>"
            ]
          },
          "metadata": {
            "tags": [],
            "needs_background": "light"
          }
        }
      ]
    },
    {
      "cell_type": "markdown",
      "metadata": {
        "id": "SYAX9Zrc7tUT"
      },
      "source": [
        "### 1.7. Spliting the data"
      ]
    },
    {
      "cell_type": "code",
      "metadata": {
        "id": "UJago0g50fCY"
      },
      "source": [
        "X = df[['Humidity3pm','Rainfall','RainToday']]\n",
        "y = df[['RainTomorrow']]"
      ],
      "execution_count": 46,
      "outputs": []
    },
    {
      "cell_type": "code",
      "metadata": {
        "id": "3ZLfKW6X0fAH"
      },
      "source": [
        "X_train, X_test, y_train, y_test = train_test_split(X, y, test_size=0.2)"
      ],
      "execution_count": 47,
      "outputs": []
    },
    {
      "cell_type": "markdown",
      "metadata": {
        "id": "WQ0EMskQNWN2"
      },
      "source": [
        "### 1.8. Upsampling (not used)\n",
        "\n",
        "Upsampling can really help us to get more equal f1 score (between 2 classes), but we dont want do use it here. We can recive better accuracy without up/downsampling because there are a lot more days without rain."
      ]
    },
    {
      "cell_type": "code",
      "metadata": {
        "id": "9o3gXnBINGxL"
      },
      "source": [
        "from imblearn.over_sampling import SMOTE\n",
        "import collections"
      ],
      "execution_count": 48,
      "outputs": []
    },
    {
      "cell_type": "code",
      "metadata": {
        "colab": {
          "base_uri": "https://localhost:8080/",
          "height": 35
        },
        "id": "EZ7Twlb8Mx2w",
        "outputId": "2fb3dd49-1b31-4d41-dc14-7477293914e7"
      },
      "source": [
        "'''\n",
        "sm = SMOTE(random_state=14)\n",
        "X_train_sm, y_train_sm = sm.fit_resample(X_train, y_train)\n",
        "'''"
      ],
      "execution_count": 49,
      "outputs": [
        {
          "output_type": "execute_result",
          "data": {
            "application/vnd.google.colaboratory.intrinsic+json": {
              "type": "string"
            },
            "text/plain": [
              "'\\nsm = SMOTE(random_state=14)\\nX_train_sm, y_train_sm = sm.fit_resample(X_train, y_train)\\n'"
            ]
          },
          "metadata": {
            "tags": []
          },
          "execution_count": 49
        }
      ]
    },
    {
      "cell_type": "markdown",
      "metadata": {
        "id": "qtnFcr33Etro"
      },
      "source": [
        "# 2. Creating and Fitting the Models + Evaluation"
      ]
    },
    {
      "cell_type": "code",
      "metadata": {
        "id": "KFi67M2S9dyk"
      },
      "source": [
        "from sklearn.metrics import accuracy_score\n",
        "from sklearn.metrics import confusion_matrix, classification_report"
      ],
      "execution_count": 50,
      "outputs": []
    },
    {
      "cell_type": "markdown",
      "metadata": {
        "id": "j_bZATHe8VZg"
      },
      "source": [
        "### 2.1. Linear Regresion"
      ]
    },
    {
      "cell_type": "code",
      "metadata": {
        "id": "k-jG3STrEsQX"
      },
      "source": [
        "from sklearn.linear_model import LogisticRegression"
      ],
      "execution_count": 51,
      "outputs": []
    },
    {
      "cell_type": "code",
      "metadata": {
        "colab": {
          "base_uri": "https://localhost:8080/"
        },
        "id": "27rjXJD7E1NB",
        "outputId": "2e0856b2-a902-4ee4-ec96-eced3ca6c00a"
      },
      "source": [
        "clf_logreg = LogisticRegression(random_state=0)\n",
        "clf_logreg.fit(X_train,y_train)\n",
        "\n",
        "y_pred_1 = clf_logreg.predict(X_test)\n",
        "score_1 = accuracy_score(y_test,y_pred_1)\n",
        "\n",
        "print('Accuracy :',score_1)"
      ],
      "execution_count": 52,
      "outputs": [
        {
          "output_type": "stream",
          "text": [
            "/usr/local/lib/python3.7/dist-packages/sklearn/utils/validation.py:760: DataConversionWarning: A column-vector y was passed when a 1d array was expected. Please change the shape of y to (n_samples, ), for example using ravel().\n",
            "  y = column_or_1d(y, warn=True)\n"
          ],
          "name": "stderr"
        },
        {
          "output_type": "stream",
          "text": [
            "Accuracy : 0.8410123296560675\n"
          ],
          "name": "stdout"
        }
      ]
    },
    {
      "cell_type": "code",
      "metadata": {
        "colab": {
          "base_uri": "https://localhost:8080/",
          "height": 297
        },
        "id": "L_21KjPZzuzj",
        "outputId": "311c8faf-0b56-4665-d4b6-5ee5ce9ae981"
      },
      "source": [
        "cm = confusion_matrix(y_test, y_pred_1)\n",
        "classes = ['No rain', 'Raining']\n",
        "df_cm = pd.DataFrame(cm, index=classes, columns=classes)\n",
        "hmap = sns.heatmap(df_cm, annot=True, fmt=\"d\")\n",
        "hmap.yaxis.set_ticklabels(hmap.yaxis.get_ticklabels(), rotation=0, ha='right')\n",
        "hmap.xaxis.set_ticklabels(hmap.xaxis.get_ticklabels(), rotation=30, ha='right')\n",
        "plt.ylabel('True label')\n",
        "plt.xlabel('Predicted label');"
      ],
      "execution_count": 53,
      "outputs": [
        {
          "output_type": "display_data",
          "data": {
            "image/png": "[encoded data removed]",
            "text/plain": [
              "<Figure size 432x288 with 2 Axes>"
            ]
          },
          "metadata": {
            "tags": [],
            "needs_background": "light"
          }
        }
      ]
    },
    {
      "cell_type": "markdown",
      "metadata": {
        "id": "FNg2gl1z8z6W"
      },
      "source": [
        "### 2.2. Decision Tree"
      ]
    },
    {
      "cell_type": "code",
      "metadata": {
        "id": "hzg-uzX8FFvx"
      },
      "source": [
        "from sklearn.tree import DecisionTreeClassifier"
      ],
      "execution_count": 54,
      "outputs": []
    },
    {
      "cell_type": "code",
      "metadata": {
        "colab": {
          "base_uri": "https://localhost:8080/"
        },
        "id": "uH7_nt6pFJuR",
        "outputId": "c542fadf-9be3-429c-c616-d0d96e4edd8e"
      },
      "source": [
        "clf_dt = DecisionTreeClassifier(random_state=0)\n",
        "clf_dt.fit(X_train,y_train)\n",
        "\n",
        "y_pred_2 = clf_dt.predict(X_test)\n",
        "score_2 = accuracy_score(y_test,y_pred_2)\n",
        "\n",
        "print('Accuracy :',score_2)"
      ],
      "execution_count": 55,
      "outputs": [
        {
          "output_type": "stream",
          "text": [
            "Accuracy : 0.8320200241030871\n"
          ],
          "name": "stdout"
        }
      ]
    },
    {
      "cell_type": "code",
      "metadata": {
        "colab": {
          "base_uri": "https://localhost:8080/",
          "height": 297
        },
        "id": "rAe5TzMdz2fZ",
        "outputId": "397551b6-2505-4ac0-c7c2-eb5883084ec3"
      },
      "source": [
        "cm = confusion_matrix(y_test, y_pred_2)\n",
        "df_cm = pd.DataFrame(cm, index=classes, columns=classes)\n",
        "hmap = sns.heatmap(df_cm, annot=True, fmt=\"d\")\n",
        "hmap.yaxis.set_ticklabels(hmap.yaxis.get_ticklabels(), rotation=0, ha='right')\n",
        "hmap.xaxis.set_ticklabels(hmap.xaxis.get_ticklabels(), rotation=30, ha='right')\n",
        "plt.ylabel('True label')\n",
        "plt.xlabel('Predicted label');"
      ],
      "execution_count": 56,
      "outputs": [
        {
          "output_type": "display_data",
          "data": {
            "image/png": "[encoded data removed]",
            "text/plain": [
              "<Figure size 432x288 with 2 Axes>"
            ]
          },
          "metadata": {
            "tags": [],
            "needs_background": "light"
          }
        }
      ]
    },
    {
      "cell_type": "markdown",
      "metadata": {
        "id": "VlW94e7c9IlP"
      },
      "source": [
        "### 2.3. Random Forest"
      ]
    },
    {
      "cell_type": "code",
      "metadata": {
        "id": "CWVaq24BE7wo"
      },
      "source": [
        "from sklearn.ensemble import RandomForestClassifier"
      ],
      "execution_count": 57,
      "outputs": []
    },
    {
      "cell_type": "code",
      "metadata": {
        "colab": {
          "base_uri": "https://localhost:8080/"
        },
        "id": "q16fyjbRFBpR",
        "outputId": "e87d5127-754b-45de-e183-5f1e421530fc"
      },
      "source": [
        "clf_rf = RandomForestClassifier(n_estimators=100, max_depth=4,random_state=0)\n",
        "clf_rf.fit(X_train,y_train)\n",
        "\n",
        "y_pred_3 = clf_rf.predict(X_test)\n",
        "score_3 = accuracy_score(y_test,y_pred_3)\n",
        "\n",
        "print('Accuracy :',score_3)"
      ],
      "execution_count": 58,
      "outputs": [
        {
          "output_type": "stream",
          "text": [
            "/usr/local/lib/python3.7/dist-packages/ipykernel_launcher.py:2: DataConversionWarning: A column-vector y was passed when a 1d array was expected. Please change the shape of y to (n_samples,), for example using ravel().\n",
            "  \n"
          ],
          "name": "stderr"
        },
        {
          "output_type": "stream",
          "text": [
            "Accuracy : 0.8407342171131919\n"
          ],
          "name": "stdout"
        }
      ]
    },
    {
      "cell_type": "code",
      "metadata": {
        "colab": {
          "base_uri": "https://localhost:8080/",
          "height": 297
        },
        "id": "3gMXFjHVz4Q9",
        "outputId": "1d52f722-2a71-4a5d-d15c-7a6769a866b2"
      },
      "source": [
        "cm = confusion_matrix(y_test, y_pred_3)\n",
        "df_cm = pd.DataFrame(cm, index=classes, columns=classes)\n",
        "hmap = sns.heatmap(df_cm, annot=True, fmt=\"d\")\n",
        "hmap.yaxis.set_ticklabels(hmap.yaxis.get_ticklabels(), rotation=0, ha='right')\n",
        "hmap.xaxis.set_ticklabels(hmap.xaxis.get_ticklabels(), rotation=30, ha='right')\n",
        "plt.ylabel('True label')\n",
        "plt.xlabel('Predicted label');"
      ],
      "execution_count": 59,
      "outputs": [
        {
          "output_type": "display_data",
          "data": {
            "image/png": "[encoded data removed]",
            "text/plain": [
              "<Figure size 432x288 with 2 Axes>"
            ]
          },
          "metadata": {
            "tags": [],
            "needs_background": "light"
          }
        }
      ]
    },
    {
      "cell_type": "markdown",
      "metadata": {
        "id": "12ZcTDGg9UMn"
      },
      "source": [
        "### 2.4. KNeighborsClassifier"
      ]
    },
    {
      "cell_type": "code",
      "metadata": {
        "id": "oyk4r6VMFQ1y"
      },
      "source": [
        "from sklearn.neighbors import KNeighborsClassifier"
      ],
      "execution_count": 60,
      "outputs": []
    },
    {
      "cell_type": "code",
      "metadata": {
        "colab": {
          "base_uri": "https://localhost:8080/"
        },
        "id": "2TYx5vvyFVL5",
        "outputId": "f14e5a1b-b86f-4e82-f6d8-179cdec18b0e"
      },
      "source": [
        "knn = KNeighborsClassifier(n_neighbors = 2)\n",
        "knn.fit(X_train, y_train)\n",
        "\n",
        "y_pred_4 = knn.predict(X_test)\n",
        "score_4 = accuracy_score(y_test,y_pred_4)\n",
        "\n",
        "print('Accuracy :',score_4)"
      ],
      "execution_count": 61,
      "outputs": [
        {
          "output_type": "stream",
          "text": [
            "/usr/local/lib/python3.7/dist-packages/ipykernel_launcher.py:2: DataConversionWarning: A column-vector y was passed when a 1d array was expected. Please change the shape of y to (n_samples, ), for example using ravel().\n",
            "  \n"
          ],
          "name": "stderr"
        },
        {
          "output_type": "stream",
          "text": [
            "Accuracy : 0.8167701863354038\n"
          ],
          "name": "stdout"
        }
      ]
    },
    {
      "cell_type": "code",
      "metadata": {
        "colab": {
          "base_uri": "https://localhost:8080/",
          "height": 297
        },
        "id": "ikTYMxXcz5jD",
        "outputId": "56b9d18d-0994-4977-8a4b-bf3c291b3dc1"
      },
      "source": [
        "cm = confusion_matrix(y_test, y_pred_4)\n",
        "df_cm = pd.DataFrame(cm, index=classes, columns=classes)\n",
        "hmap = sns.heatmap(df_cm, annot=True, fmt=\"d\")\n",
        "hmap.yaxis.set_ticklabels(hmap.yaxis.get_ticklabels(), rotation=0, ha='right')\n",
        "hmap.xaxis.set_ticklabels(hmap.xaxis.get_ticklabels(), rotation=30, ha='right')\n",
        "plt.ylabel('True label')\n",
        "plt.xlabel('Predicted label');"
      ],
      "execution_count": 62,
      "outputs": [
        {
          "output_type": "display_data",
          "data": {
            "image/png": "[encoded data removed]",
            "text/plain": [
              "<Figure size 432x288 with 2 Axes>"
            ]
          },
          "metadata": {
            "tags": [],
            "needs_background": "light"
          }
        }
      ]
    },
    {
      "cell_type": "markdown",
      "metadata": {
        "id": "9KjyM8FLFeZI"
      },
      "source": [
        "### 2.5. Neural Network (built in Keras)\n"
      ]
    },
    {
      "cell_type": "code",
      "metadata": {
        "colab": {
          "base_uri": "https://localhost:8080/"
        },
        "id": "39Q2cAJbFXxQ",
        "outputId": "7e8b913f-d5e3-4d58-e951-0537a5a37bba"
      },
      "source": [
        "X_train = torch.from_numpy(X_train.to_numpy()).float()\n",
        "y_train = torch.squeeze(torch.from_numpy(y_train.to_numpy()).float())\n",
        "\n",
        "X_test = torch.from_numpy(X_test.to_numpy()).float()\n",
        "y_test = torch.squeeze(torch.from_numpy(y_test.to_numpy()).float())\n",
        "\n",
        "print(X_train.shape, y_train.shape)\n",
        "print(X_test.shape, y_test.shape)"
      ],
      "execution_count": 63,
      "outputs": [
        {
          "output_type": "stream",
          "text": [
            "torch.Size([86294, 3]) torch.Size([86294])\n",
            "torch.Size([21574, 3]) torch.Size([21574])\n"
          ],
          "name": "stdout"
        }
      ]
    },
    {
      "cell_type": "code",
      "metadata": {
        "id": "f2JBpUqqFh1p"
      },
      "source": [
        "class Net(nn.Module):\n",
        "  def __init__(self, n_features): # NN Constructor\n",
        "    super(Net, self).__init__() #super constructor\n",
        "    self.fc1 = nn.Linear(n_features, 32) #Input to Hidden Layer\n",
        "    self.fc2 = nn.Linear(32, 16) #Input to Hidden Layer\n",
        "    self.fc3 = nn.Linear(16, 8) #Hidden to Hidden Layer\n",
        "    self.fc4 = nn.Linear(8, 1) #Hidden to Output Layer\n",
        "    \n",
        "  def forward(self, x): #passing outputs to another layers\n",
        "    x = F.relu(self.fc1(x)) # In to Hid Layer (relu)\n",
        "    x = F.relu(self.fc2(x)) # In to Hid Layer (relu)\n",
        "    x = F.relu(self.fc3(x)) # Hid to Hid Layer (relu)\n",
        "    return torch.sigmoid(self.fc4(x)) # Hid to Out Layer (sigmoid)\n",
        "\n",
        "net = Net(X_train.shape[1]) "
      ],
      "execution_count": 64,
      "outputs": []
    },
    {
      "cell_type": "code",
      "metadata": {
        "id": "LQpqExjOFkKQ"
      },
      "source": [
        "criterion = nn.BCELoss() #Binary Cross Entropy Loss"
      ],
      "execution_count": 65,
      "outputs": []
    },
    {
      "cell_type": "code",
      "metadata": {
        "id": "vMBTtfXJFlfS"
      },
      "source": [
        "optimizer = optim.Adam(net.parameters(), lr=0.001) #Optimizer"
      ],
      "execution_count": 66,
      "outputs": []
    },
    {
      "cell_type": "code",
      "metadata": {
        "id": "lkUD68pOFmcS"
      },
      "source": [
        "def calculate_accuracy(y_true, y_pred):\n",
        "  predicted = y_pred.ge(.5).view(-1)\n",
        "  return (y_true == predicted).sum().float() / len(y_true)"
      ],
      "execution_count": 67,
      "outputs": []
    },
    {
      "cell_type": "code",
      "metadata": {
        "id": "4G0uFOXMFn9A"
      },
      "source": [
        "def round_tensor(t, decimal_places=3):\n",
        "  return round(t.item(), decimal_places)"
      ],
      "execution_count": 68,
      "outputs": []
    },
    {
      "cell_type": "code",
      "metadata": {
        "colab": {
          "base_uri": "https://localhost:8080/"
        },
        "id": "FN0z-edRFo1L",
        "outputId": "8175036e-f503-471e-e039-daa6b77a1565"
      },
      "source": [
        "for epoch in range(1000):\n",
        "    y_pred = net(X_train)\n",
        "    y_pred = torch.squeeze(y_pred)\n",
        "    train_loss = criterion(y_pred, y_train)\n",
        "    if epoch % 50 == 0:\n",
        "      train_acc = calculate_accuracy(y_train, y_pred)\n",
        "      y_test_pred = net(X_test)\n",
        "      y_test_pred = torch.squeeze(y_test_pred)\n",
        "      test_loss = criterion(y_test_pred, y_test)\n",
        "      test_acc = calculate_accuracy(y_test, y_test_pred)\n",
        "      print(\n",
        "f'''epoch {epoch}\n",
        "Train set - loss: {round_tensor(train_loss)}, accuracy: {round_tensor(train_acc)}\n",
        "Test  set - loss: {round_tensor(test_loss)}, accuracy: {round_tensor(test_acc)}\n",
        "''')\n",
        "    optimizer.zero_grad()\n",
        "    train_loss.backward()\n",
        "    optimizer.step()"
      ],
      "execution_count": 69,
      "outputs": [
        {
          "output_type": "stream",
          "text": [
            "epoch 0\n",
            "Train set - loss: 0.716, accuracy: 0.208\n",
            "Test  set - loss: 0.716, accuracy: 0.207\n",
            "\n",
            "epoch 50\n",
            "Train set - loss: 0.648, accuracy: 0.792\n",
            "Test  set - loss: 0.648, accuracy: 0.793\n",
            "\n",
            "epoch 100\n",
            "Train set - loss: 0.52, accuracy: 0.792\n",
            "Test  set - loss: 0.52, accuracy: 0.793\n",
            "\n",
            "epoch 150\n",
            "Train set - loss: 0.437, accuracy: 0.821\n",
            "Test  set - loss: 0.437, accuracy: 0.822\n",
            "\n",
            "epoch 200\n",
            "Train set - loss: 0.397, accuracy: 0.834\n",
            "Test  set - loss: 0.398, accuracy: 0.836\n",
            "\n",
            "epoch 250\n",
            "Train set - loss: 0.391, accuracy: 0.839\n",
            "Test  set - loss: 0.392, accuracy: 0.841\n",
            "\n",
            "epoch 300\n",
            "Train set - loss: 0.39, accuracy: 0.84\n",
            "Test  set - loss: 0.391, accuracy: 0.841\n",
            "\n",
            "epoch 350\n",
            "Train set - loss: 0.389, accuracy: 0.84\n",
            "Test  set - loss: 0.39, accuracy: 0.841\n",
            "\n",
            "epoch 400\n",
            "Train set - loss: 0.388, accuracy: 0.84\n",
            "Test  set - loss: 0.39, accuracy: 0.841\n",
            "\n",
            "epoch 450\n",
            "Train set - loss: 0.388, accuracy: 0.84\n",
            "Test  set - loss: 0.39, accuracy: 0.841\n",
            "\n",
            "epoch 500\n",
            "Train set - loss: 0.388, accuracy: 0.84\n",
            "Test  set - loss: 0.389, accuracy: 0.841\n",
            "\n",
            "epoch 550\n",
            "Train set - loss: 0.388, accuracy: 0.84\n",
            "Test  set - loss: 0.389, accuracy: 0.841\n",
            "\n",
            "epoch 600\n",
            "Train set - loss: 0.388, accuracy: 0.84\n",
            "Test  set - loss: 0.389, accuracy: 0.841\n",
            "\n",
            "epoch 650\n",
            "Train set - loss: 0.388, accuracy: 0.84\n",
            "Test  set - loss: 0.389, accuracy: 0.841\n",
            "\n",
            "epoch 700\n",
            "Train set - loss: 0.388, accuracy: 0.84\n",
            "Test  set - loss: 0.389, accuracy: 0.841\n",
            "\n",
            "epoch 750\n",
            "Train set - loss: 0.388, accuracy: 0.84\n",
            "Test  set - loss: 0.389, accuracy: 0.841\n",
            "\n",
            "epoch 800\n",
            "Train set - loss: 0.388, accuracy: 0.84\n",
            "Test  set - loss: 0.389, accuracy: 0.841\n",
            "\n",
            "epoch 850\n",
            "Train set - loss: 0.387, accuracy: 0.84\n",
            "Test  set - loss: 0.389, accuracy: 0.841\n",
            "\n",
            "epoch 900\n",
            "Train set - loss: 0.387, accuracy: 0.84\n",
            "Test  set - loss: 0.389, accuracy: 0.841\n",
            "\n",
            "epoch 950\n",
            "Train set - loss: 0.387, accuracy: 0.84\n",
            "Test  set - loss: 0.389, accuracy: 0.841\n",
            "\n"
          ],
          "name": "stdout"
        }
      ]
    },
    {
      "cell_type": "code",
      "metadata": {
        "colab": {
          "base_uri": "https://localhost:8080/"
        },
        "id": "YO7rXCMrFqty",
        "outputId": "610825f1-8e76-4f4a-ff84-ada6769973fb"
      },
      "source": [
        "y_pred_5 = net(X_test)\n",
        "y_pred_5 = y_pred_5.ge(.5).view(-1).cpu()\n",
        "score_5 = accuracy_score(y_test,y_pred_5)\n",
        "y_test = y_test.cpu()\n",
        "print(classification_report(y_test, y_pred_5, target_names=classes))"
      ],
      "execution_count": 70,
      "outputs": [
        {
          "output_type": "stream",
          "text": [
            "              precision    recall  f1-score   support\n",
            "\n",
            "     No rain       0.86      0.96      0.91     17102\n",
            "     Raining       0.72      0.39      0.50      4472\n",
            "\n",
            "    accuracy                           0.84     21574\n",
            "   macro avg       0.79      0.67      0.70     21574\n",
            "weighted avg       0.83      0.84      0.82     21574\n",
            "\n"
          ],
          "name": "stdout"
        }
      ]
    },
    {
      "cell_type": "code",
      "metadata": {
        "colab": {
          "base_uri": "https://localhost:8080/",
          "height": 297
        },
        "id": "SG1Rmld1FvCM",
        "outputId": "b3181bff-92ca-459f-ae41-88b13694ba59"
      },
      "source": [
        "cm = confusion_matrix(y_test, y_pred_5)\n",
        "df_cm = pd.DataFrame(cm, index=classes, columns=classes)\n",
        "hmap = sns.heatmap(df_cm, annot=True, fmt=\"d\")\n",
        "hmap.yaxis.set_ticklabels(hmap.yaxis.get_ticklabels(), rotation=0, ha='right')\n",
        "hmap.xaxis.set_ticklabels(hmap.xaxis.get_ticklabels(), rotation=30, ha='right')\n",
        "plt.ylabel('True label')\n",
        "plt.xlabel('Predicted label');"
      ],
      "execution_count": 71,
      "outputs": [
        {
          "output_type": "display_data",
          "data": {
            "image/png": "[encoded data removed]",
            "text/plain": [
              "<Figure size 432x288 with 2 Axes>"
            ]
          },
          "metadata": {
            "tags": [],
            "needs_background": "light"
          }
        }
      ]
    },
    {
      "cell_type": "markdown",
      "metadata": {
        "id": "E0e3Lx-q_h4S"
      },
      "source": [
        "### 2.6. Results"
      ]
    },
    {
      "cell_type": "code",
      "metadata": {
        "colab": {
          "base_uri": "https://localhost:8080/"
        },
        "id": "BCdUsy-Cz9r-",
        "outputId": "f22dccce-b258-4fe4-bab7-e37ce489b7eb"
      },
      "source": [
        "print(f'Scores for different models: \\nLinear Regresion {score_1} \\nDecision Tree {score_2} \\nRandom Forest {score_3} \\nKNeighborsClassifier {score_4} \\nNeural Network {score_5}')"
      ],
      "execution_count": 72,
      "outputs": [
        {
          "output_type": "stream",
          "text": [
            "Scores for different models: \n",
            "Linear Regresion 0.8410123296560675 \n",
            "Decision Tree 0.8320200241030871 \n",
            "Random Forest 0.8407342171131919 \n",
            "KNeighborsClassifier 0.8167701863354038 \n",
            "Neural Network 0.8409659775655882\n"
          ],
          "name": "stdout"
        }
      ]
    }
  ]
}